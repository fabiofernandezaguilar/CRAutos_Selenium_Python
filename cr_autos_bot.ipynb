{
 "cells": [
  {
   "cell_type": "code",
   "execution_count": 2,
   "metadata": {
    "scrolled": true
   },
   "outputs": [
    {
     "ename": "ModuleNotFoundError",
     "evalue": "No module named 'selenium'",
     "output_type": "error",
     "traceback": [
      "\u001b[0;31m---------------------------------------------------------------------------\u001b[0m",
      "\u001b[0;31mModuleNotFoundError\u001b[0m                       Traceback (most recent call last)",
      "\u001b[0;32m<ipython-input-2-e2f1b53ed051>\u001b[0m in \u001b[0;36m<module>\u001b[0;34m\u001b[0m\n\u001b[0;32m----> 1\u001b[0;31m \u001b[0;32mimport\u001b[0m \u001b[0mselenium\u001b[0m\u001b[0;34m\u001b[0m\u001b[0;34m\u001b[0m\u001b[0m\n\u001b[0m\u001b[1;32m      2\u001b[0m \u001b[0;32mfrom\u001b[0m \u001b[0mselenium\u001b[0m \u001b[0;32mimport\u001b[0m \u001b[0mwebdriver\u001b[0m\u001b[0;34m\u001b[0m\u001b[0;34m\u001b[0m\u001b[0m\n",
      "\u001b[0;31mModuleNotFoundError\u001b[0m: No module named 'selenium'"
     ]
    }
   ],
   "source": [
    "import selenium\n",
    "from selenium import webdriver"
   ]
  },
  {
   "cell_type": "code",
   "execution_count": 3,
   "metadata": {},
   "outputs": [
    {
     "ename": "ModuleNotFoundError",
     "evalue": "No module named 'selenium'",
     "output_type": "error",
     "traceback": [
      "\u001b[0;31m---------------------------------------------------------------------------\u001b[0m",
      "\u001b[0;31mModuleNotFoundError\u001b[0m                       Traceback (most recent call last)",
      "\u001b[0;32m<ipython-input-3-ba687f6c01d3>\u001b[0m in \u001b[0;36m<module>\u001b[0;34m\u001b[0m\n\u001b[0;32m----> 1\u001b[0;31m \u001b[0;32mfrom\u001b[0m \u001b[0mselenium\u001b[0m \u001b[0;32mimport\u001b[0m \u001b[0mwebdriver\u001b[0m\u001b[0;34m\u001b[0m\u001b[0;34m\u001b[0m\u001b[0m\n\u001b[0m\u001b[1;32m      2\u001b[0m \u001b[0;32mfrom\u001b[0m \u001b[0mselenium\u001b[0m\u001b[0;34m.\u001b[0m\u001b[0mcommon\u001b[0m\u001b[0;34m.\u001b[0m\u001b[0mexceptions\u001b[0m \u001b[0;32mimport\u001b[0m \u001b[0mTimeoutException\u001b[0m\u001b[0;34m,\u001b[0m \u001b[0mElementNotVisibleException\u001b[0m\u001b[0;34m,\u001b[0m \u001b[0mStaleElementReferenceException\u001b[0m\u001b[0;34m\u001b[0m\u001b[0;34m\u001b[0m\u001b[0m\n\u001b[1;32m      3\u001b[0m \u001b[0;32mfrom\u001b[0m \u001b[0mselenium\u001b[0m\u001b[0;34m.\u001b[0m\u001b[0mwebdriver\u001b[0m\u001b[0;34m.\u001b[0m\u001b[0msupport\u001b[0m\u001b[0;34m.\u001b[0m\u001b[0mui\u001b[0m \u001b[0;32mimport\u001b[0m \u001b[0mWebDriverWait\u001b[0m\u001b[0;34m\u001b[0m\u001b[0;34m\u001b[0m\u001b[0m\n\u001b[1;32m      4\u001b[0m \u001b[0;32mfrom\u001b[0m \u001b[0mselenium\u001b[0m\u001b[0;34m.\u001b[0m\u001b[0mwebdriver\u001b[0m\u001b[0;34m.\u001b[0m\u001b[0msupport\u001b[0m \u001b[0;32mimport\u001b[0m \u001b[0mexpected_conditions\u001b[0m \u001b[0;32mas\u001b[0m \u001b[0mEC\u001b[0m\u001b[0;34m\u001b[0m\u001b[0;34m\u001b[0m\u001b[0m\n\u001b[1;32m      5\u001b[0m \u001b[0;32mfrom\u001b[0m \u001b[0mselenium\u001b[0m\u001b[0;34m.\u001b[0m\u001b[0mwebdriver\u001b[0m\u001b[0;34m.\u001b[0m\u001b[0mcommon\u001b[0m\u001b[0;34m.\u001b[0m\u001b[0mkeys\u001b[0m \u001b[0;32mimport\u001b[0m \u001b[0mKeys\u001b[0m\u001b[0;34m\u001b[0m\u001b[0;34m\u001b[0m\u001b[0m\n",
      "\u001b[0;31mModuleNotFoundError\u001b[0m: No module named 'selenium'"
     ]
    }
   ],
   "source": [
    "from selenium import webdriver\n",
    "from selenium.common.exceptions import TimeoutException, ElementNotVisibleException, StaleElementReferenceException\n",
    "from selenium.webdriver.support.ui import WebDriverWait\n",
    "from selenium.webdriver.support import expected_conditions as EC\n",
    "from selenium.webdriver.common.keys import Keys\n",
    "from selenium.webdriver.common.by import By\n",
    "import time\n",
    "import pandas as pd\n",
    "import re\n",
    "%matplotlib inline\n",
    "from scipy import stats\n",
    "import glob\n",
    "\n",
    "import os;\n",
    "os.environ[\"PATH\"] += os.pathsep + r''\n",
    "driver = webdriver.Chrome()\n",
    "url = 'http://crautos.com/rautosusados/'\n",
    "driver.get(url)\n",
    "driver.find_element_by_xpath('/html/body/section[2]/div/div[5]/table/tbody/tr/td/div/form/div[2]/table/tbody/tr[8]/td/input').click()\n"
   ]
  },
  {
   "cell_type": "code",
   "execution_count": null,
   "metadata": {},
   "outputs": [],
   "source": [
    "# empty = pd.DataFrame(None)"
   ]
  },
  {
   "cell_type": "code",
   "execution_count": 4,
   "metadata": {},
   "outputs": [
    {
     "name": "stdout",
     "output_type": "stream",
     "text": [
      "0\n",
      "1\n",
      "2\n",
      "3\n",
      "4\n",
      "5\n",
      "6\n",
      "7\n",
      "8\n",
      "9\n",
      "10\n",
      "11\n",
      "12\n",
      "13\n",
      "14\n",
      "15\n",
      "16\n",
      "17\n",
      "18\n",
      "19\n",
      "1\n",
      "1\n",
      "2\n",
      "3\n",
      "4\n",
      "5\n",
      "6\n",
      "7\n",
      "8\n",
      "9\n",
      "10\n",
      "11\n",
      "12\n",
      "13\n",
      "14\n",
      "15\n",
      "16\n",
      "17\n",
      "18\n",
      "19\n",
      "2\n",
      "1\n",
      "2\n",
      "3\n",
      "4\n",
      "5\n",
      "6\n",
      "7\n",
      "8\n",
      "9\n",
      "10\n",
      "11\n",
      "12\n",
      "13\n",
      "14\n",
      "15\n",
      "16\n",
      "17\n",
      "18\n",
      "19\n",
      "3\n",
      "1\n",
      "2\n",
      "3\n",
      "4\n",
      "5\n",
      "6\n",
      "7\n",
      "8\n",
      "9\n",
      "10\n",
      "11\n",
      "12\n",
      "13\n",
      "14\n",
      "15\n",
      "16\n",
      "17\n",
      "18\n",
      "19\n",
      "4\n",
      "1\n",
      "2\n",
      "3\n",
      "4\n",
      "5\n",
      "6\n",
      "7\n",
      "8\n",
      "9\n",
      "10\n",
      "11\n",
      "12\n",
      "13\n",
      "14\n",
      "15\n",
      "16\n",
      "17\n",
      "18\n",
      "19\n"
     ]
    },
    {
     "ename": "NameError",
     "evalue": "name 'pd' is not defined",
     "output_type": "error",
     "traceback": [
      "\u001b[0;31m---------------------------------------------------------------------------\u001b[0m",
      "\u001b[0;31mNameError\u001b[0m                                 Traceback (most recent call last)",
      "\u001b[0;32m<ipython-input-4-ebe87ed2e29a>\u001b[0m in \u001b[0;36m<module>\u001b[0;34m\u001b[0m\n\u001b[1;32m     25\u001b[0m     \u001b[0;32mexcept\u001b[0m\u001b[0;34m:\u001b[0m\u001b[0;34m\u001b[0m\u001b[0;34m\u001b[0m\u001b[0m\n\u001b[1;32m     26\u001b[0m         \u001b[0;32mcontinue\u001b[0m\u001b[0;34m\u001b[0m\u001b[0;34m\u001b[0m\u001b[0m\n\u001b[0;32m---> 27\u001b[0;31m \u001b[0mempty\u001b[0m \u001b[0;34m=\u001b[0m \u001b[0mpd\u001b[0m\u001b[0;34m.\u001b[0m\u001b[0mconcat\u001b[0m\u001b[0;34m(\u001b[0m\u001b[0;34m[\u001b[0m\u001b[0mempty\u001b[0m\u001b[0;34m,\u001b[0m \u001b[0mpd\u001b[0m\u001b[0;34m.\u001b[0m\u001b[0mDataFrame\u001b[0m\u001b[0;34m(\u001b[0m\u001b[0ma\u001b[0m\u001b[0;34m)\u001b[0m\u001b[0;34m]\u001b[0m\u001b[0;34m)\u001b[0m\u001b[0;34m\u001b[0m\u001b[0;34m\u001b[0m\u001b[0m\n\u001b[0m",
      "\u001b[0;31mNameError\u001b[0m: name 'pd' is not defined"
     ]
    }
   ],
   "source": [
    "a = []\n",
    "begin = 0\n",
    "end = 5\n",
    "for n in range(begin,end):\n",
    "    try:\n",
    "        print(n)\n",
    "        #driver.find_element_by_xpath('/html/body/section[2]/div/div/div[1]/div[1]/div[1]/div[3]/ul/li['+str(n+1)+']/a').click()\n",
    "        for i in range(1,20):\n",
    "            try:\n",
    "                m = driver.find_element_by_xpath('/html/body/section[2]/div/div/div[1]/div[1]/div[1]/form/div['+str(i)+']/a/div[1]').text\n",
    "                for n in range(1):\n",
    "                    try:\n",
    "                        p = driver.find_element_by_xpath('/html/body/section[2]/div/div/div[1]/div[1]/div[1]/form/div['+str(i)+']/a/div[2]/div[1]').text\n",
    "                    except:\n",
    "                        p = driver.find_element_by_xpath('/html/body/section[2]/div/div/div[1]/div[1]/div[1]/form/div['+str(i)+']/a/div[4]/div[1]').text\n",
    "                print(m, p)\n",
    "                a.append({'model': m, 'price': p})\n",
    "            except:\n",
    "                print(i)\n",
    "                continue\n",
    "        if driver.find_element_by_xpath('/html/body/section[2]/div/div/div[1]/div[1]/div[1]/div[3]/ul/li[1]/a').text == '1':\n",
    "            driver.find_element_by_xpath('/html/body/section[2]/div/div/div[1]/div[1]/div[1]/div[3]/ul/li[18]/a').click()\n",
    "        else:\n",
    "            driver.find_element_by_xpath('/html/body/section[2]/div/div/div[1]/div[1]/div[1]/div[3]/ul/li[19]/a').click()\n",
    "    except:\n",
    "        continue\n",
    "empty = pd.concat([empty, pd.DataFrame(a)])"
   ]
  },
  {
   "cell_type": "code",
   "execution_count": null,
   "metadata": {},
   "outputs": [],
   "source": [
    "# # empty = pd.concat([empty, pd.DataFrame(a)])\n",
    "# empty.to_csv('guardar.csv')"
   ]
  },
  {
   "cell_type": "code",
   "execution_count": 5,
   "metadata": {},
   "outputs": [
    {
     "ename": "NameError",
     "evalue": "name 'pd' is not defined",
     "output_type": "error",
     "traceback": [
      "\u001b[0;31m---------------------------------------------------------------------------\u001b[0m",
      "\u001b[0;31mNameError\u001b[0m                                 Traceback (most recent call last)",
      "\u001b[0;32m<ipython-input-5-7705096cebf2>\u001b[0m in \u001b[0;36m<module>\u001b[0;34m\u001b[0m\n\u001b[0;32m----> 1\u001b[0;31m \u001b[0mempty\u001b[0m \u001b[0;34m=\u001b[0m \u001b[0mpd\u001b[0m\u001b[0;34m.\u001b[0m\u001b[0mread_csv\u001b[0m\u001b[0;34m(\u001b[0m\u001b[0;34m'empty_all.csv'\u001b[0m\u001b[0;34m)\u001b[0m\u001b[0;34m\u001b[0m\u001b[0;34m\u001b[0m\u001b[0m\n\u001b[0m",
      "\u001b[0;31mNameError\u001b[0m: name 'pd' is not defined"
     ]
    }
   ],
   "source": [
    "empty = pd.read_csv('empty_all.csv')"
   ]
  },
  {
   "cell_type": "code",
   "execution_count": null,
   "metadata": {},
   "outputs": [],
   "source": [
    "empty"
   ]
  },
  {
   "cell_type": "code",
   "execution_count": null,
   "metadata": {},
   "outputs": [],
   "source": [
    "len(empty)"
   ]
  },
  {
   "cell_type": "code",
   "execution_count": null,
   "metadata": {},
   "outputs": [],
   "source": [
    "def year(x):\n",
    "    z = x.split()\n",
    "    year = []\n",
    "    maker = []\n",
    "    model = []\n",
    "    for ze in z:\n",
    "        \n",
    "        try:\n",
    "            ye = ze[1]\n",
    "            y = 0\n",
    "            if (ye.isdigit() & (len(year) == 0)):\n",
    "                year.append(ze)\n",
    "            elif ((len(maker) == 0) & (len(year) == 1)):\n",
    "                maker.append(ze)\n",
    "            elif (ye.islower()):\n",
    "                maker.append(ze)\n",
    "            else:\n",
    "                model.append(ze)\n",
    "        except:\n",
    "            continue\n",
    "    return int(year[0])\n",
    "\n",
    "def maker(x):\n",
    "    z = x.split()\n",
    "    year = []\n",
    "    maker = []\n",
    "    model = []\n",
    "    for ze in z:\n",
    "        \n",
    "        try:\n",
    "            ye = ze[1]\n",
    "            y = 0\n",
    "            if (ye.isdigit() & (len(year) == 0)):\n",
    "                year.append(ze)\n",
    "            elif ((len(maker) == 0) & (len(year) == 1)):\n",
    "                maker.append(ze)\n",
    "            elif (ye.islower()):\n",
    "                maker.append(ze)\n",
    "            else:\n",
    "                model.append(ze)\n",
    "        except:\n",
    "            continue\n",
    "    return str(maker)\n",
    "\n",
    "def model(x):\n",
    "    z = x.split()\n",
    "    year = []\n",
    "    maker = []\n",
    "    model = []\n",
    "    for ze in z:\n",
    "        \n",
    "        try:\n",
    "            ye = ze[1]\n",
    "            if (ye.isdigit() & (len(year) == 0)):\n",
    "                year.append(ze)\n",
    "            elif ((len(maker) == 0) & (len(year) == 1)):\n",
    "                maker.append(ze)\n",
    "            elif (ye.islower()):\n",
    "                maker.append(ze)\n",
    "            else:\n",
    "                model.append(ze)\n",
    "        except:\n",
    "            model.append(ze)\n",
    "            continue\n",
    "    return str(model)\n",
    "\n",
    "def value(x):\n",
    "    y = str(x).replace('¢','').replace(',','')\n",
    "    return int(y)\n",
    "def top(x):\n",
    "    if x in top_m:\n",
    "        return 'top'\n",
    "    else:\n",
    "        return 'tail'"
   ]
  },
  {
   "cell_type": "code",
   "execution_count": null,
   "metadata": {},
   "outputs": [],
   "source": [
    "df = empty.copy()"
   ]
  },
  {
   "cell_type": "code",
   "execution_count": null,
   "metadata": {},
   "outputs": [],
   "source": [
    "df.head().dtypes"
   ]
  },
  {
   "cell_type": "code",
   "execution_count": null,
   "metadata": {},
   "outputs": [],
   "source": [
    "df['year'] = df.model.apply(year)\n",
    "df['maker'] = df.model.apply(maker)\n",
    "df['model2'] = df.model.apply(model)\n",
    "df['value'] = df.price.apply(value).astype(int)\n",
    "df['top'] = df.model2.apply(top)\n",
    "df = df[(df.value< 70000000) & (df.year < 2018)]"
   ]
  },
  {
   "cell_type": "code",
   "execution_count": null,
   "metadata": {},
   "outputs": [],
   "source": [
    "top_m = df.groupby([ 'model2']).size().sort_values(ascending=False)[0:400].index"
   ]
  },
  {
   "cell_type": "code",
   "execution_count": null,
   "metadata": {},
   "outputs": [],
   "source": [
    "import matplotlib.pyplot as plt\n",
    "tt = df[df.top == 'top'].pivot_table(index=['maker', 'model2'], columns='year', aggfunc='median', values= 'value')\n",
    "tt.T.plot(legend=False, figsize=(18,6))"
   ]
  },
  {
   "cell_type": "code",
   "execution_count": null,
   "metadata": {},
   "outputs": [],
   "source": [
    "from pylab import * "
   ]
  },
  {
   "cell_type": "code",
   "execution_count": null,
   "metadata": {},
   "outputs": [],
   "source": [
    "funcs = []\n",
    "for i in range(50):\n",
    "    try:\n",
    "        data = tt.T.iloc[:,i]\n",
    "        data = pd.DataFrame(data)\n",
    "        data = data[data.iloc[:,0].isnull()==False]\n",
    "        x = data.index\n",
    "        y = data.iloc[:,0].values\n",
    "        mm = data.columns[0]\n",
    "        maker = mm[0]\n",
    "        model = mm[1]\n",
    "        r = stats.pearsonr(x, y)[0]\n",
    "        m,b = polyfit(x, y, 1) \n",
    "        plot(x, y, 'yo', x, m*x+b, '--k') \n",
    "        show() \n",
    "        print(m,b)\n",
    "        if (m > 0) &  (len(data) > 2):\n",
    "            funcs.append({'maker':maker, 'model':model, 'm':m, 'b':b, 'r': r})\n",
    "    except:\n",
    "        continue"
   ]
  },
  {
   "cell_type": "code",
   "execution_count": null,
   "metadata": {},
   "outputs": [],
   "source": [
    "modelos = pd.DataFrame(funcs)\n",
    "modelos.to_csv('modelos.csv', index= False)\n",
    "modelos"
   ]
  },
  {
   "cell_type": "code",
   "execution_count": null,
   "metadata": {},
   "outputs": [],
   "source": []
  }
 ],
 "metadata": {
  "anaconda-cloud": {},
  "kernelspec": {
   "display_name": "Python 3",
   "language": "python",
   "name": "python3"
  },
  "language_info": {
   "codemirror_mode": {
    "name": "ipython",
    "version": 3
   },
   "file_extension": ".py",
   "mimetype": "text/x-python",
   "name": "python",
   "nbconvert_exporter": "python",
   "pygments_lexer": "ipython3",
   "version": "3.7.3"
  }
 },
 "nbformat": 4,
 "nbformat_minor": 1
}
